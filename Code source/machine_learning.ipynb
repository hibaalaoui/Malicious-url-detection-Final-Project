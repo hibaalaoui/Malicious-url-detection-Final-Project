{
 "cells": [
  {
   "cell_type": "code",
   "execution_count": 1,
   "metadata": {
    "execution": {
     "iopub.execute_input": "2025-05-03T19:21:04.145628Z",
     "iopub.status.busy": "2025-05-03T19:21:04.145036Z",
     "iopub.status.idle": "2025-05-03T19:21:06.100144Z",
     "shell.execute_reply": "2025-05-03T19:21:06.099148Z",
     "shell.execute_reply.started": "2025-05-03T19:21:04.145581Z"
    },
    "trusted": true
   },
   "outputs": [],
   "source": [
    "import numpy as np\n",
    "import pandas as pd\n",
    "import seaborn as sns\n",
    "import matplotlib.pyplot as plt\n",
    "%matplotlib inline\n",
    "import warnings\n",
    "warnings.filterwarnings('ignore')\n",
    "import re"
   ]
  },
  {
   "cell_type": "code",
   "execution_count": 2,
   "metadata": {
    "execution": {
     "iopub.execute_input": "2025-05-03T19:21:06.102652Z",
     "iopub.status.busy": "2025-05-03T19:21:06.102010Z",
     "iopub.status.idle": "2025-05-03T19:22:22.967678Z",
     "shell.execute_reply": "2025-05-03T19:22:22.966649Z",
     "shell.execute_reply.started": "2025-05-03T19:21:06.102613Z"
    },
    "trusted": true
   },
   "outputs": [],
   "source": [
    "data = pd.read_csv('/kaggle/input/tabular-dataset-ready-for-malicious-url-detection/train_dataset.csv')"
   ]
  },
  {
   "cell_type": "code",
   "execution_count": 3,
   "metadata": {
    "execution": {
     "iopub.execute_input": "2025-05-03T19:22:22.969181Z",
     "iopub.status.busy": "2025-05-03T19:22:22.968824Z",
     "iopub.status.idle": "2025-05-03T19:22:51.744352Z",
     "shell.execute_reply": "2025-05-03T19:22:51.743400Z",
     "shell.execute_reply.started": "2025-05-03T19:22:22.969143Z"
    },
    "trusted": true
   },
   "outputs": [
    {
     "data": {
      "text/html": [
       "<div>\n",
       "<style scoped>\n",
       "    .dataframe tbody tr th:only-of-type {\n",
       "        vertical-align: middle;\n",
       "    }\n",
       "\n",
       "    .dataframe tbody tr th {\n",
       "        vertical-align: top;\n",
       "    }\n",
       "\n",
       "    .dataframe thead th {\n",
       "        text-align: right;\n",
       "    }\n",
       "</style>\n",
       "<table border=\"1\" class=\"dataframe\">\n",
       "  <thead>\n",
       "    <tr style=\"text-align: right;\">\n",
       "      <th></th>\n",
       "      <th>url</th>\n",
       "      <th>label</th>\n",
       "      <th>source</th>\n",
       "      <th>url_has_login</th>\n",
       "      <th>url_has_client</th>\n",
       "      <th>url_has_server</th>\n",
       "      <th>url_has_admin</th>\n",
       "      <th>url_has_ip</th>\n",
       "      <th>url_isshorted</th>\n",
       "      <th>url_len</th>\n",
       "      <th>...</th>\n",
       "      <th>subdomain_len</th>\n",
       "      <th>subdomain_count_dot</th>\n",
       "      <th>url_length</th>\n",
       "      <th>count_at</th>\n",
       "      <th>count_dash</th>\n",
       "      <th>count_dot</th>\n",
       "      <th>count_double_dash</th>\n",
       "      <th>num_subdomains</th>\n",
       "      <th>has_ip</th>\n",
       "      <th>https</th>\n",
       "    </tr>\n",
       "  </thead>\n",
       "  <tbody>\n",
       "    <tr>\n",
       "      <th>0</th>\n",
       "      <td>irs-profilepaymentservice.com/home</td>\n",
       "      <td>1</td>\n",
       "      <td>phishtank</td>\n",
       "      <td>0</td>\n",
       "      <td>0</td>\n",
       "      <td>0</td>\n",
       "      <td>0</td>\n",
       "      <td>0</td>\n",
       "      <td>0</td>\n",
       "      <td>34</td>\n",
       "      <td>...</td>\n",
       "      <td>0</td>\n",
       "      <td>0</td>\n",
       "      <td>34</td>\n",
       "      <td>0</td>\n",
       "      <td>1</td>\n",
       "      <td>1</td>\n",
       "      <td>0</td>\n",
       "      <td>1</td>\n",
       "      <td>0</td>\n",
       "      <td>0</td>\n",
       "    </tr>\n",
       "    <tr>\n",
       "      <th>1</th>\n",
       "      <td>cpuggsukabumi.id</td>\n",
       "      <td>0</td>\n",
       "      <td>majestic_million</td>\n",
       "      <td>0</td>\n",
       "      <td>0</td>\n",
       "      <td>0</td>\n",
       "      <td>0</td>\n",
       "      <td>0</td>\n",
       "      <td>0</td>\n",
       "      <td>16</td>\n",
       "      <td>...</td>\n",
       "      <td>0</td>\n",
       "      <td>0</td>\n",
       "      <td>16</td>\n",
       "      <td>0</td>\n",
       "      <td>0</td>\n",
       "      <td>1</td>\n",
       "      <td>0</td>\n",
       "      <td>1</td>\n",
       "      <td>0</td>\n",
       "      <td>0</td>\n",
       "    </tr>\n",
       "    <tr>\n",
       "      <th>2</th>\n",
       "      <td>members.tripod.com/~don_rc/ring.htm</td>\n",
       "      <td>0</td>\n",
       "      <td>data_clean_test_mendel</td>\n",
       "      <td>0</td>\n",
       "      <td>0</td>\n",
       "      <td>0</td>\n",
       "      <td>0</td>\n",
       "      <td>0</td>\n",
       "      <td>0</td>\n",
       "      <td>35</td>\n",
       "      <td>...</td>\n",
       "      <td>7</td>\n",
       "      <td>0</td>\n",
       "      <td>35</td>\n",
       "      <td>0</td>\n",
       "      <td>0</td>\n",
       "      <td>3</td>\n",
       "      <td>0</td>\n",
       "      <td>3</td>\n",
       "      <td>0</td>\n",
       "      <td>0</td>\n",
       "    </tr>\n",
       "    <tr>\n",
       "      <th>3</th>\n",
       "      <td>optuswebmailadminprovider.weebly.com/</td>\n",
       "      <td>1</td>\n",
       "      <td>phishtank</td>\n",
       "      <td>0</td>\n",
       "      <td>0</td>\n",
       "      <td>0</td>\n",
       "      <td>1</td>\n",
       "      <td>0</td>\n",
       "      <td>0</td>\n",
       "      <td>37</td>\n",
       "      <td>...</td>\n",
       "      <td>25</td>\n",
       "      <td>0</td>\n",
       "      <td>37</td>\n",
       "      <td>0</td>\n",
       "      <td>0</td>\n",
       "      <td>2</td>\n",
       "      <td>0</td>\n",
       "      <td>2</td>\n",
       "      <td>0</td>\n",
       "      <td>0</td>\n",
       "    </tr>\n",
       "    <tr>\n",
       "      <th>4</th>\n",
       "      <td>topoz.com.pl</td>\n",
       "      <td>0</td>\n",
       "      <td>dmoz_harvard</td>\n",
       "      <td>0</td>\n",
       "      <td>0</td>\n",
       "      <td>0</td>\n",
       "      <td>0</td>\n",
       "      <td>0</td>\n",
       "      <td>0</td>\n",
       "      <td>12</td>\n",
       "      <td>...</td>\n",
       "      <td>0</td>\n",
       "      <td>0</td>\n",
       "      <td>12</td>\n",
       "      <td>0</td>\n",
       "      <td>0</td>\n",
       "      <td>2</td>\n",
       "      <td>0</td>\n",
       "      <td>2</td>\n",
       "      <td>0</td>\n",
       "      <td>0</td>\n",
       "    </tr>\n",
       "  </tbody>\n",
       "</table>\n",
       "<p>5 rows × 68 columns</p>\n",
       "</div>"
      ],
      "text/plain": [
       "                                     url  label                  source  \\\n",
       "0     irs-profilepaymentservice.com/home      1               phishtank   \n",
       "1                       cpuggsukabumi.id      0        majestic_million   \n",
       "2    members.tripod.com/~don_rc/ring.htm      0  data_clean_test_mendel   \n",
       "3  optuswebmailadminprovider.weebly.com/      1               phishtank   \n",
       "4                           topoz.com.pl      0            dmoz_harvard   \n",
       "\n",
       "   url_has_login  url_has_client  url_has_server  url_has_admin  url_has_ip  \\\n",
       "0              0               0               0              0           0   \n",
       "1              0               0               0              0           0   \n",
       "2              0               0               0              0           0   \n",
       "3              0               0               0              1           0   \n",
       "4              0               0               0              0           0   \n",
       "\n",
       "   url_isshorted  url_len  ...  subdomain_len  subdomain_count_dot  \\\n",
       "0              0       34  ...              0                    0   \n",
       "1              0       16  ...              0                    0   \n",
       "2              0       35  ...              7                    0   \n",
       "3              0       37  ...             25                    0   \n",
       "4              0       12  ...              0                    0   \n",
       "\n",
       "   url_length  count_at  count_dash  count_dot  count_double_dash  \\\n",
       "0          34         0           1          1                  0   \n",
       "1          16         0           0          1                  0   \n",
       "2          35         0           0          3                  0   \n",
       "3          37         0           0          2                  0   \n",
       "4          12         0           0          2                  0   \n",
       "\n",
       "   num_subdomains  has_ip  https  \n",
       "0               1       0      0  \n",
       "1               1       0      0  \n",
       "2               3       0      0  \n",
       "3               2       0      0  \n",
       "4               2       0      0  \n",
       "\n",
       "[5 rows x 68 columns]"
      ]
     },
     "execution_count": 3,
     "metadata": {},
     "output_type": "execute_result"
    }
   ],
   "source": [
    "# 1. URL Length\n",
    "data['url_length'] = data['url'].apply(len)\n",
    "\n",
    "# 2. Count of Special Characters (@, -, ., //)\n",
    "data['count_at'] = data['url'].apply(lambda x: x.count('@'))\n",
    "data['count_dash'] = data['url'].apply(lambda x: x.count('-'))\n",
    "data['count_dot'] = data['url'].apply(lambda x: x.count('.'))\n",
    "data['count_double_dash'] = data['url'].apply(lambda x: x.count('//'))\n",
    "\n",
    "\n",
    "# 3. Number of Subdomains(Calculate the number of subdomains by counting the number of dots (.))\n",
    "\n",
    "data['num_subdomains'] = data['url'].apply(lambda x: x.count('.'))\n",
    "\n",
    "\n",
    "# 4. Presence of IP Address in URL\n",
    "# (Check if the URL contains an IP address instead of a domain name, which is common in phishing URLs.)\n",
    "\n",
    "data['has_ip'] = data['url'].apply(lambda x: 1 if re.search(r'\\b\\d{1,3}\\.\\d{1,3}\\.\\d{1,3}\\.\\d{1,3}\\b', x) else 0)\n",
    "\n",
    "\n",
    "# Presence of HTTPS\n",
    "data['https'] = data['url'].apply(lambda x: 1 if 'https' in x else 0)\n",
    "\n",
    "\n",
    "# displaying few rouws to verify features\n",
    "data.head()\n",
    "     "
   ]
  },
  {
   "cell_type": "code",
   "execution_count": 4,
   "metadata": {
    "execution": {
     "iopub.execute_input": "2025-05-03T19:22:51.745610Z",
     "iopub.status.busy": "2025-05-03T19:22:51.745348Z",
     "iopub.status.idle": "2025-05-03T19:22:54.528374Z",
     "shell.execute_reply": "2025-05-03T19:22:54.527421Z",
     "shell.execute_reply.started": "2025-05-03T19:22:51.745588Z"
    },
    "trusted": true
   },
   "outputs": [
    {
     "name": "stdout",
     "output_type": "stream",
     "text": [
      "Number of outliers in url_length: 501109\n",
      "Number of outliers in count_at: 13928\n",
      "Number of outliers in count_dash: 1292516\n",
      "Number of outliers in count_dot: 178994\n",
      "Number of outliers in count_double_dash: 4940\n",
      "Number of outliers in num_subdomains: 178994\n",
      "Number of outliers in has_ip: 32531\n",
      "Number of outliers in https: 10616\n"
     ]
    }
   ],
   "source": [
    "features = ['url_length','count_at', 'count_dash', 'count_dot', 'count_double_dash', 'num_subdomains', 'has_ip', 'https']\n",
    "# Function to calculate and count outliers using the IQR method\n",
    "def detect_outliers(df, column):\n",
    "    Q1 = df[column].quantile(0.25)\n",
    "    Q3 = df[column].quantile(0.75)\n",
    "    IQR = Q3 - Q1\n",
    "    lower_bound = Q1 - 1.5 * IQR\n",
    "    upper_bound = Q3 + 1.5 * IQR\n",
    "    outliers = df[(df[column] < lower_bound) | (df[column] > upper_bound)]\n",
    "    return outliers\n",
    "\n",
    "# Counting the number of outliers for each feature\n",
    "for feature in features:\n",
    "    outliers = detect_outliers(data, feature)\n",
    "    print(f\"Number of outliers in {feature}: {len(outliers)}\")"
   ]
  },
  {
   "cell_type": "code",
   "execution_count": 5,
   "metadata": {
    "execution": {
     "iopub.execute_input": "2025-05-03T19:22:54.531014Z",
     "iopub.status.busy": "2025-05-03T19:22:54.530762Z",
     "iopub.status.idle": "2025-05-03T19:23:09.617200Z",
     "shell.execute_reply": "2025-05-03T19:23:09.616220Z",
     "shell.execute_reply.started": "2025-05-03T19:22:54.530995Z"
    },
    "trusted": true
   },
   "outputs": [
    {
     "name": "stdout",
     "output_type": "stream",
     "text": [
      "Original dataset shape: (6728848, 68)\n",
      "Dataset shape after outlier removal: (5128786, 68)\n"
     ]
    }
   ],
   "source": [
    "# Define a function to remove outliers based on the IQR method\n",
    "def remove_outliers_iqr(df, columns):\n",
    "    for col in columns:\n",
    "        # Calculate Q1 and Q3 for the column\n",
    "        Q1 = df[col].quantile(0.25)\n",
    "        Q3 = df[col].quantile(0.75)\n",
    "        # Calculate the IQR\n",
    "        IQR = Q3 - Q1\n",
    "        # Define the lower and upper bounds\n",
    "        lower_bound = Q1 - 1.5 * IQR\n",
    "        upper_bound = Q3 + 1.5 * IQR\n",
    "        # Remove rows that have outliers in this column\n",
    "        df = df[(df[col] >= lower_bound) & (df[col] <= upper_bound)]\n",
    "    return df\n",
    "\n",
    "# List of columns to remove outliers from\n",
    "outlier_columns = ['url_length','count_at', 'count_dash', 'count_dot', 'count_double_dash', 'num_subdomains', 'has_ip', 'https']\n",
    "\n",
    "# Apply the function to the data\n",
    "data_cleaned = remove_outliers_iqr(data, outlier_columns)\n",
    "\n",
    "# Display the shape of the dataset before and after removing outliers\n",
    "print(\"Original dataset shape:\", data.shape)\n",
    "print(\"Dataset shape after outlier removal:\", data_cleaned.shape)"
   ]
  },
  {
   "cell_type": "code",
   "execution_count": 6,
   "metadata": {
    "execution": {
     "iopub.execute_input": "2025-05-03T19:23:09.618954Z",
     "iopub.status.busy": "2025-05-03T19:23:09.618626Z",
     "iopub.status.idle": "2025-05-03T19:23:12.356528Z",
     "shell.execute_reply": "2025-05-03T19:23:12.355513Z",
     "shell.execute_reply.started": "2025-05-03T19:23:09.618924Z"
    },
    "trusted": true
   },
   "outputs": [
    {
     "name": "stdout",
     "output_type": "stream",
     "text": [
      "Proportion d'outliers pour url_length: 7.45%\n",
      "Proportion d'outliers pour count_at: 0.21%\n",
      "Proportion d'outliers pour count_dash: 19.21%\n",
      "Proportion d'outliers pour count_dot: 2.66%\n",
      "Proportion d'outliers pour count_double_dash: 0.07%\n",
      "Proportion d'outliers pour num_subdomains: 2.66%\n",
      "Proportion d'outliers pour has_ip: 0.48%\n",
      "Proportion d'outliers pour https: 0.16%\n"
     ]
    }
   ],
   "source": [
    "total_rows = len(data)\n",
    "for feature in outlier_columns:\n",
    "    outliers = detect_outliers(data, feature)\n",
    "    outlier_percentage = (len(outliers) / total_rows) * 100\n",
    "    print(f\"Proportion d'outliers pour {feature}: {outlier_percentage:.2f}%\")"
   ]
  },
  {
   "cell_type": "code",
   "execution_count": 7,
   "metadata": {
    "execution": {
     "iopub.execute_input": "2025-05-03T19:23:12.358051Z",
     "iopub.status.busy": "2025-05-03T19:23:12.357748Z",
     "iopub.status.idle": "2025-05-03T19:23:12.636381Z",
     "shell.execute_reply": "2025-05-03T19:23:12.635596Z",
     "shell.execute_reply.started": "2025-05-03T19:23:12.358020Z"
    },
    "trusted": true
   },
   "outputs": [],
   "source": [
    "# Finalizing feature selection based on feature importance analysis\n",
    "selected_features = [\n",
    "    'url_entropy',\n",
    "    'path_count_no_of_dir',\n",
    "    'url_3bentropy',\n",
    "    'url_length',\n",
    "    'path_len',\n",
    "    'pdomain_min_distance',\n",
    "    'subdomain_len',\n",
    "    'url_count_digit',\n",
    "    'url_2bentropy',\n",
    "    'url_hamming_1',\n",
    "    'path_count_upper',\n",
    "    'path_count_lower',\n",
    "    'tld_len',\n",
    "    'url_hamming_01',\n",
    "    'url_nunique_chars_ratio'\n",
    "]\n",
    "\n",
    "X = data[selected_features]\n",
    "y = data['label']"
   ]
  },
  {
   "cell_type": "code",
   "execution_count": 8,
   "metadata": {
    "execution": {
     "iopub.execute_input": "2025-05-03T19:23:12.637594Z",
     "iopub.status.busy": "2025-05-03T19:23:12.637322Z",
     "iopub.status.idle": "2025-05-03T19:23:14.947154Z",
     "shell.execute_reply": "2025-05-03T19:23:14.946104Z",
     "shell.execute_reply.started": "2025-05-03T19:23:12.637573Z"
    },
    "trusted": true
   },
   "outputs": [],
   "source": [
    "from sklearn.model_selection import train_test_split\n",
    "\n",
    "X_train, X_test, y_train, y_test = train_test_split(\n",
    "    X, y, test_size=0.2, random_state=42\n",
    ")"
   ]
  },
  {
   "cell_type": "code",
   "execution_count": 9,
   "metadata": {
    "execution": {
     "iopub.execute_input": "2025-05-03T19:23:14.948719Z",
     "iopub.status.busy": "2025-05-03T19:23:14.948373Z",
     "iopub.status.idle": "2025-05-03T20:05:59.990102Z",
     "shell.execute_reply": "2025-05-03T20:05:59.985913Z",
     "shell.execute_reply.started": "2025-05-03T19:23:14.948674Z"
    },
    "trusted": true
   },
   "outputs": [
    {
     "name": "stdout",
     "output_type": "stream",
     "text": [
      "Accuracy: 0.9319014393246988\n",
      "Classification Report:\n",
      "               precision    recall  f1-score   support\n",
      "\n",
      "           0       0.94      0.98      0.96   1056595\n",
      "           1       0.91      0.76      0.83    289175\n",
      "\n",
      "    accuracy                           0.93   1345770\n",
      "   macro avg       0.92      0.87      0.89   1345770\n",
      "weighted avg       0.93      0.93      0.93   1345770\n",
      "\n"
     ]
    }
   ],
   "source": [
    "from sklearn.ensemble import RandomForestClassifier\n",
    "from sklearn.metrics import classification_report, accuracy_score\n",
    "\n",
    "# Initialize and train the model\n",
    "model = RandomForestClassifier(random_state=42)\n",
    "model.fit(X_train, y_train)\n",
    "\n",
    "# Make predictions\n",
    "y_pred = model.predict(X_test)\n",
    "\n",
    "# Evaluate the model\n",
    "print(\"Accuracy:\", accuracy_score(y_test, y_pred))\n",
    "print(\"Classification Report:\\n\", classification_report(y_test, y_pred))"
   ]
  },
  {
   "cell_type": "code",
   "execution_count": 10,
   "metadata": {
    "execution": {
     "iopub.execute_input": "2025-05-03T20:07:58.381721Z",
     "iopub.status.busy": "2025-05-03T20:07:58.380739Z",
     "iopub.status.idle": "2025-05-03T20:14:01.851704Z",
     "shell.execute_reply": "2025-05-03T20:14:01.850202Z",
     "shell.execute_reply.started": "2025-05-03T20:07:58.381637Z"
    },
    "trusted": true
   },
   "outputs": [
    {
     "name": "stdout",
     "output_type": "stream",
     "text": [
      "Logistic Regression Accuracy: 0.8715746375680837\n",
      "Logistic Regression Classification Report:\n",
      "               precision    recall  f1-score   support\n",
      "\n",
      "           0       0.89      0.96      0.92   1056595\n",
      "           1       0.79      0.55      0.65    289175\n",
      "\n",
      "    accuracy                           0.87   1345770\n",
      "   macro avg       0.84      0.75      0.78   1345770\n",
      "weighted avg       0.87      0.87      0.86   1345770\n",
      "\n"
     ]
    }
   ],
   "source": [
    "from sklearn.linear_model import LogisticRegression\n",
    "\n",
    "# Initialize and train the Logistic Regression model\n",
    "logistic_model = LogisticRegression(max_iter=1000, random_state=42)\n",
    "logistic_model.fit(X_train, y_train)\n",
    "\n",
    "# Make predictions\n",
    "y_pred_logistic = logistic_model.predict(X_test)\n",
    "\n",
    "# Evaluate the model\n",
    "print(\"Logistic Regression Accuracy:\", accuracy_score(y_test, y_pred_logistic))\n",
    "print(\"Logistic Regression Classification Report:\\n\", classification_report(y_test, y_pred_logistic))\n",
    "\n",
    " "
   ]
  }
 ],
 "metadata": {
  "kaggle": {
   "accelerator": "none",
   "dataSources": [
    {
     "datasetId": 4441201,
     "sourceId": 7624364,
     "sourceType": "datasetVersion"
    }
   ],
   "dockerImageVersionId": 31012,
   "isGpuEnabled": false,
   "isInternetEnabled": false,
   "language": "python",
   "sourceType": "notebook"
  },
  "kernelspec": {
   "display_name": "Python 3",
   "language": "python",
   "name": "python3"
  },
  "language_info": {
   "codemirror_mode": {
    "name": "ipython",
    "version": 3
   },
   "file_extension": ".py",
   "mimetype": "text/x-python",
   "name": "python",
   "nbconvert_exporter": "python",
   "pygments_lexer": "ipython3",
   "version": "3.11.11"
  }
 },
 "nbformat": 4,
 "nbformat_minor": 4
}
