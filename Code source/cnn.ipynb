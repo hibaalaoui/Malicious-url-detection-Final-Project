{
 "cells": [
  {
   "cell_type": "code",
   "execution_count": 1,
   "id": "fa8e2eec",
   "metadata": {
    "_cell_guid": "b1076dfc-b9ad-4769-8c92-a6c4dae69d19",
    "_uuid": "8f2839f25d086af736a60e9eeb907d3b93b6e0e5",
    "execution": {
     "iopub.execute_input": "2025-05-07T15:32:30.518834Z",
     "iopub.status.busy": "2025-05-07T15:32:30.518523Z",
     "iopub.status.idle": "2025-05-07T15:32:32.434436Z",
     "shell.execute_reply": "2025-05-07T15:32:32.433657Z"
    },
    "papermill": {
     "duration": 1.922294,
     "end_time": "2025-05-07T15:32:32.436162",
     "exception": false,
     "start_time": "2025-05-07T15:32:30.513868",
     "status": "completed"
    },
    "tags": []
   },
   "outputs": [],
   "source": [
    "import pandas as pd\n",
    "import numpy as np\n",
    "import re"
   ]
  },
  {
   "cell_type": "code",
   "execution_count": 2,
   "id": "0416fec4",
   "metadata": {
    "execution": {
     "iopub.execute_input": "2025-05-07T15:32:32.443766Z",
     "iopub.status.busy": "2025-05-07T15:32:32.443038Z",
     "iopub.status.idle": "2025-05-07T15:33:47.524538Z",
     "shell.execute_reply": "2025-05-07T15:33:47.523558Z"
    },
    "papermill": {
     "duration": 75.090677,
     "end_time": "2025-05-07T15:33:47.530106",
     "exception": false,
     "start_time": "2025-05-07T15:32:32.439429",
     "status": "completed"
    },
    "tags": []
   },
   "outputs": [
    {
     "name": "stdout",
     "output_type": "stream",
     "text": [
      "Dataset chargé avec succès !\n",
      "Dimensions du dataset : (6728848, 60)\n",
      "\n",
      "Aperçu des premières lignes :\n",
      "                                     url  label                  source  \\\n",
      "0     irs-profilepaymentservice.com/home      1               phishtank   \n",
      "1                       cpuggsukabumi.id      0        majestic_million   \n",
      "2    members.tripod.com/~don_rc/ring.htm      0  data_clean_test_mendel   \n",
      "3  optuswebmailadminprovider.weebly.com/      1               phishtank   \n",
      "4                           topoz.com.pl      0            dmoz_harvard   \n",
      "\n",
      "   url_has_login  url_has_client  url_has_server  url_has_admin  url_has_ip  \\\n",
      "0              0               0               0              0           0   \n",
      "1              0               0               0              0           0   \n",
      "2              0               0               0              0           0   \n",
      "3              0               0               0              1           0   \n",
      "4              0               0               0              0           0   \n",
      "\n",
      "   url_isshorted  url_len  ...  pdomain_count_hyphen  pdomain_count_atrate  \\\n",
      "0              0       34  ...                     0                     0   \n",
      "1              0       16  ...                     0                     0   \n",
      "2              0       35  ...                     0                     0   \n",
      "3              0       37  ...                     0                     0   \n",
      "4              0       12  ...                     0                     0   \n",
      "\n",
      "   pdomain_count_non_alphanum  pdomain_count_digit  tld_len     tld  \\\n",
      "0                           0                    0        3     com   \n",
      "1                           0                    0        2      id   \n",
      "2                           0                    0        3     com   \n",
      "3                           0                    0        3     com   \n",
      "4                           0                    0        6  com.pl   \n",
      "\n",
      "   tld_is_sus  pdomain_min_distance  subdomain_len  subdomain_count_dot  \n",
      "0           0                    17              0                    0  \n",
      "1           1                    10              0                    0  \n",
      "2           0                     2              7                    0  \n",
      "3           0                     3             25                    0  \n",
      "4           0                     3              0                    0  \n",
      "\n",
      "[5 rows x 60 columns]\n",
      "\n",
      "Colonnes disponibles : ['url', 'label', 'source', 'url_has_login', 'url_has_client', 'url_has_server', 'url_has_admin', 'url_has_ip', 'url_isshorted', 'url_len', 'url_entropy', 'url_hamming_1', 'url_hamming_00', 'url_hamming_10', 'url_hamming_01', 'url_hamming_11', 'url_2bentropy', 'url_3bentropy', 'url_count_dot', 'url_count_https', 'url_count_http', 'url_count_perc', 'url_count_hyphen', 'url_count_www', 'url_count_atrate', 'url_count_hash', 'url_count_semicolon', 'url_count_underscore', 'url_count_ques', 'url_count_equal', 'url_count_amp', 'url_count_letter', 'url_count_digit', 'url_count_sensitive_financial_words', 'url_count_sensitive_words', 'url_nunique_chars_ratio', 'path_len', 'path_count_no_of_dir', 'path_count_no_of_embed', 'path_count_zero', 'path_count_pertwent', 'path_has_any_sensitive_words', 'path_count_lower', 'path_count_upper', 'path_count_nonascii', 'path_has_singlechardir', 'path_has_upperdir', 'query_len', 'query_count_components', 'pdomain_len', 'pdomain_count_hyphen', 'pdomain_count_atrate', 'pdomain_count_non_alphanum', 'pdomain_count_digit', 'tld_len', 'tld', 'tld_is_sus', 'pdomain_min_distance', 'subdomain_len', 'subdomain_count_dot']\n",
      "\n",
      "Colonnes 'url' et 'label' sélectionnées pour les modèles séquentiels.\n",
      "                                     url  label\n",
      "0     irs-profilepaymentservice.com/home      1\n",
      "1                       cpuggsukabumi.id      0\n",
      "2    members.tripod.com/~don_rc/ring.htm      0\n",
      "3  optuswebmailadminprovider.weebly.com/      1\n",
      "4                           topoz.com.pl      0\n"
     ]
    }
   ],
   "source": [
    "file_path = '/kaggle/input/urldata/data.csv' \n",
    "\n",
    "try:\n",
    "    data = pd.read_csv(file_path)\n",
    "    print(\"Dataset chargé avec succès !\")\n",
    "    print(f\"Dimensions du dataset : {data.shape}\")\n",
    "    print(\"\\nAperçu des premières lignes :\")\n",
    "    print(data.head())\n",
    "    print(f\"\\nColonnes disponibles : {data.columns.tolist()}\")\n",
    "except FileNotFoundError:\n",
    "    print(f\"ERREUR : Le fichier '{file_path}' n'a pas été trouvé. Vérifie le chemin dans /kaggle/input/\")\n",
    "    print(\"Assure-toi d'avoir ajouté le dataset à ton notebook Kaggle via le menu 'Add data'.\")\n",
    "except Exception as e:\n",
    "    print(f\"Une erreur est survenue lors du chargement du CSV : {e}\")\n",
    "\n",
    "# 2. Sélectionner les colonnes nécessaires pour les modèles séquentiels\n",
    "if 'data' in locals(): # Vérifie si 'data' a été chargé correctement\n",
    "    if 'url' in data.columns and 'label' in data.columns:\n",
    "        df_sequential = data[['url', 'label']].copy()\n",
    "        print(\"\\nColonnes 'url' et 'label' sélectionnées pour les modèles séquentiels.\")\n",
    "        print(df_sequential.head())\n",
    "    else:\n",
    "        print(\"ERREUR : Les colonnes 'url' et/ou 'label' sont manquantes dans le dataset.\")"
   ]
  },
  {
   "cell_type": "code",
   "execution_count": 3,
   "id": "69494ab1",
   "metadata": {
    "execution": {
     "iopub.execute_input": "2025-05-07T15:33:47.537333Z",
     "iopub.status.busy": "2025-05-07T15:33:47.536999Z",
     "iopub.status.idle": "2025-05-07T15:33:50.544517Z",
     "shell.execute_reply": "2025-05-07T15:33:50.543255Z"
    },
    "papermill": {
     "duration": 3.012919,
     "end_time": "2025-05-07T15:33:50.546029",
     "exception": false,
     "start_time": "2025-05-07T15:33:47.533110",
     "status": "completed"
    },
    "tags": []
   },
   "outputs": [
    {
     "name": "stdout",
     "output_type": "stream",
     "text": [
      "\n",
      "--- Nettoyage et Préparation des URLs ---\n",
      "Valeurs manquantes dans 'url' avant nettoyage : 0\n",
      "Valeurs manquantes dans 'label' avant nettoyage : 0\n",
      "\n",
      "URLs converties en minuscules.\n",
      "\n",
      "Aperçu des URLs après traitement minimal :\n",
      "                                     url  \\\n",
      "0     irs-profilepaymentservice.com/home   \n",
      "1                       cpuggsukabumi.id   \n",
      "2    members.tripod.com/~don_rc/ring.htm   \n",
      "3  optuswebmailadminprovider.weebly.com/   \n",
      "4                           topoz.com.pl   \n",
      "\n",
      "                           url_processed  label  \n",
      "0     irs-profilepaymentservice.com/home      1  \n",
      "1                       cpuggsukabumi.id      0  \n",
      "2    members.tripod.com/~don_rc/ring.htm      0  \n",
      "3  optuswebmailadminprovider.weebly.com/      1  \n",
      "4                           topoz.com.pl      0  \n",
      "\n",
      "Nombre d'URLs à tokeniser : 6728848\n",
      "Nombre de labels : 6728848\n",
      "Exemple de texte traité : 'irs-profilepaymentservice.com/home', Label associé : 1\n"
     ]
    }
   ],
   "source": [
    "if 'df_sequential' in locals(): # S'assurer que df_sequential existe\n",
    "    print(\"\\n--- Nettoyage et Préparation des URLs ---\")\n",
    "\n",
    "    # Vérifier les valeurs manquantes dans les colonnes sélectionnées\n",
    "    print(f\"Valeurs manquantes dans 'url' avant nettoyage : {df_sequential['url'].isnull().sum()}\")\n",
    "    print(f\"Valeurs manquantes dans 'label' avant nettoyage : {df_sequential['label'].isnull().sum()}\")\n",
    "\n",
    "    # Remplacer les NaN dans 'url' par une chaîne vide (si applicable, ton doc dit 0 NaN)\n",
    "    # et s'assurer que toutes les URLs sont des chaînes\n",
    "    df_sequential['url'] = df_sequential['url'].fillna('').astype(str)\n",
    "\n",
    "    # Mettre toutes les URLs en minuscules\n",
    "    df_sequential['url_processed'] = df_sequential['url'].str.lower()\n",
    "    print(\"\\nURLs converties en minuscules.\")\n",
    "\n",
    "    # Optionnel : Nettoyage des préfixes (http, https, www)\n",
    "    # Pour l'instant, nous allons les garder car 'https' peut être un indicateur utile\n",
    "    # que le modèle pourrait apprendre. Si tu veux tester sans :\n",
    "    # def remove_prefixes(url_text):\n",
    "    #     url_text = re.sub(r'^https?://', '', url_text)\n",
    "    #     url_text = re.sub(r'^www\\.', '', url_text)\n",
    "    #     return url_text\n",
    "    # df_sequential['url_processed'] = df_sequential['url_processed'].apply(remove_prefixes)\n",
    "    # print(\"Préfixes http(s):// et www. supprimés (si activé).\")\n",
    "\n",
    "    print(\"\\nAperçu des URLs après traitement minimal :\")\n",
    "    print(df_sequential[['url', 'url_processed', 'label']].head())\n",
    "\n",
    "    # Extraire les listes de textes (URLs traitées) et les labels\n",
    "    texts = df_sequential['url_processed'].tolist()\n",
    "    labels = df_sequential['label'].values # Convertir en array numpy pour TensorFlow/Keras\n",
    "\n",
    "    print(f\"\\nNombre d'URLs à tokeniser : {len(texts)}\")\n",
    "    print(f\"Nombre de labels : {len(labels)}\")\n",
    "    print(f\"Exemple de texte traité : '{texts[0]}', Label associé : {labels[0]}\")\n",
    "\n",
    "else:\n",
    "    print(\"ERREUR : Le DataFrame 'df_sequential' n'a pas été créé. Vérifie la cellule précédente.\")"
   ]
  },
  {
   "cell_type": "code",
   "execution_count": 4,
   "id": "2cce62c1",
   "metadata": {
    "execution": {
     "iopub.execute_input": "2025-05-07T15:33:50.553913Z",
     "iopub.status.busy": "2025-05-07T15:33:50.553595Z",
     "iopub.status.idle": "2025-05-07T15:35:52.708452Z",
     "shell.execute_reply": "2025-05-07T15:35:52.707308Z"
    },
    "papermill": {
     "duration": 122.165437,
     "end_time": "2025-05-07T15:35:52.714841",
     "exception": false,
     "start_time": "2025-05-07T15:33:50.549404",
     "status": "completed"
    },
    "tags": []
   },
   "outputs": [
    {
     "name": "stderr",
     "output_type": "stream",
     "text": [
      "2025-05-07 15:33:52.457690: E external/local_xla/xla/stream_executor/cuda/cuda_fft.cc:477] Unable to register cuFFT factory: Attempting to register factory for plugin cuFFT when one has already been registered\n",
      "WARNING: All log messages before absl::InitializeLog() is called are written to STDERR\n",
      "E0000 00:00:1746632032.695754      13 cuda_dnn.cc:8310] Unable to register cuDNN factory: Attempting to register factory for plugin cuDNN when one has already been registered\n",
      "E0000 00:00:1746632032.763233      13 cuda_blas.cc:1418] Unable to register cuBLAS factory: Attempting to register factory for plugin cuBLAS when one has already been registered\n"
     ]
    },
    {
     "name": "stdout",
     "output_type": "stream",
     "text": [
      "\n",
      "--- Tokenisation et Padding ---\n"
     ]
    },
    {
     "data": {
      "image/png": "[encoded data removed]",
      "text/plain": [
       "<Figure size 1000x600 with 1 Axes>"
      ]
     },
     "metadata": {},
     "output_type": "display_data"
    },
    {
     "name": "stdout",
     "output_type": "stream",
     "text": [
      "Longueur moyenne des URLs : 23.76\n",
      "Longueur médiane des URLs : 18\n",
      "Longueur max des URLs : 8394\n",
      "95ème percentile des longueurs d'URL : 54\n",
      "\n",
      "Vocabulaire de caractères trouvé : 156 caractères uniques.\n",
      "Les 10 premiers caractères et leurs indices : {'<UNK>': 1, 'e': 2, 'o': 3, '.': 4, 'a': 5, 'c': 6, 'i': 7, 'r': 8, 's': 9, 't': 10}\n",
      "\n",
      "Exemple d'URL originale : 'irs-profilepaymentservice.com/home'\n",
      "URL tokenisée correspondante : [7, 8, 9, 24, 15, 8, 3, 21, 7, 13, 2, 15, 5, 23, 11, 2, 12, 10, 9, 2, 8, 26, 7, 6, 2, 4, 6, 3, 11, 17, 18, 3, 11, 2]\n",
      "\n",
      "Forme des données paddées (X) : (6728848, 60)\n",
      "Forme des labels (y) : (6728848,)\n",
      "\n",
      "Exemple de séquence paddée :\n",
      "[ 7  8  9 24 15  8  3 21  7 13  2 15  5 23 11  2 12 10  9  2  8 26  7  6\n",
      "  2  4  6  3 11 17 18  3 11  2  0  0  0  0  0  0  0  0  0  0  0  0  0  0\n",
      "  0  0  0  0  0  0  0  0  0  0  0  0]\n",
      "\n",
      "Taille du vocabulaire à utiliser pour la couche Embedding : 157\n"
     ]
    }
   ],
   "source": [
    "from tensorflow.keras.preprocessing.text import Tokenizer\n",
    "from tensorflow.keras.preprocessing.sequence import pad_sequences\n",
    "import matplotlib.pyplot as plt # Pour visualiser la distribution des longueurs\n",
    "\n",
    "if 'texts' in locals() and 'labels' in locals(): # S'assurer que texts et labels existent\n",
    "    print(\"\\n--- Tokenisation et Padding ---\")\n",
    "\n",
    "    # 1. Paramètres pour la tokenisation et le padding\n",
    "    MAX_NUM_CHARS = 20000  # Nombre maximal de caractères uniques à considérer dans le vocabulaire\n",
    "                           # Ajuste si nécessaire, mais pour les caractères c'est souvent moins\n",
    "    MAX_SEQUENCE_LENGTH = 60 # Longueur maximale d'une URL après padding/troncature\n",
    "                              # C'est un hyperparamètre important à choisir\n",
    "    EMBEDDING_DIM = 100     # Dimension des embeddings (sera utilisé plus tard dans le modèle)\n",
    "\n",
    "    # Afficher la distribution des longueurs des URLs pour aider à choisir MAX_SEQUENCE_LENGTH\n",
    "    url_lengths = [len(s) for s in texts]\n",
    "    plt.figure(figsize=(10, 6))\n",
    "    plt.hist(url_lengths, bins=50)\n",
    "    plt.title('Distribution des longueurs d''URL')\n",
    "    plt.xlabel('Longueur')\n",
    "    plt.ylabel('Nombre d''URLs')\n",
    "    plt.show()\n",
    "    print(f\"Longueur moyenne des URLs : {np.mean(url_lengths):.2f}\")\n",
    "    print(f\"Longueur médiane des URLs : {np.median(url_lengths):.0f}\")\n",
    "    print(f\"Longueur max des URLs : {np.max(url_lengths)}\")\n",
    "    percentile_95 = np.percentile(url_lengths, 95)\n",
    "    print(f\"95ème percentile des longueurs d'URL : {percentile_95:.0f}\")\n",
    "    # Ajuste MAX_SEQUENCE_LENGTH en fonction de cette distribution.\n",
    "    # Par exemple, tu pourrais prendre le 95ème percentile ou une valeur un peu au-dessus.\n",
    "    # MAX_SEQUENCE_LENGTH = int(percentile_95) # Par exemple\n",
    "\n",
    "\n",
    "    # 2. Créer et ajuster le Tokenizer au niveau des caractères\n",
    "    # char_level=True est la clé ici !\n",
    "    # oov_token est utile pour les caractères qui ne sont pas dans le vocabulaire appris\n",
    "    tokenizer = Tokenizer(num_words=MAX_NUM_CHARS, char_level=True, oov_token=\"<UNK>\")\n",
    "    tokenizer.fit_on_texts(texts) # Apprend le vocabulaire à partir de toutes nos URLs\n",
    "\n",
    "    # Afficher la taille du vocabulaire\n",
    "    word_index = tokenizer.word_index # C'est en fait char_index ici\n",
    "    print(f\"\\nVocabulaire de caractères trouvé : {len(word_index)} caractères uniques.\")\n",
    "    print(f\"Les {min(10, len(word_index))} premiers caractères et leurs indices : {dict(list(word_index.items())[:10])}\")\n",
    "\n",
    "    # 3. Convertir les textes (URLs) en séquences d'entiers\n",
    "    sequences = tokenizer.texts_to_sequences(texts)\n",
    "    print(f\"\\nExemple d'URL originale : '{texts[0]}'\")\n",
    "    print(f\"URL tokenisée correspondante : {sequences[0]}\")\n",
    "\n",
    "    # 4. Appliquer le Padding aux séquences\n",
    "    # 'post' signifie que le padding est ajouté à la fin.\n",
    "    # 'post' pour truncating signifie qu'on coupe à la fin si trop long.\n",
    "    data_padded = pad_sequences(sequences, maxlen=MAX_SEQUENCE_LENGTH, padding='post', truncating='post')\n",
    "\n",
    "    print(f\"\\nForme des données paddées (X) : {data_padded.shape}\") # Devrait être (nombre_urls, MAX_SEQUENCE_LENGTH)\n",
    "    print(f\"Forme des labels (y) : {labels.shape}\")\n",
    "    print(f\"\\nExemple de séquence paddée :\")\n",
    "    print(data_padded[0])\n",
    "\n",
    "    # Les données finales pour l'entraînement sont :\n",
    "    # X_train_seq = data_padded\n",
    "    # y_train_seq = labels (qui est déjà un array numpy)\n",
    "\n",
    "    # La taille du vocabulaire pour la couche Embedding sera len(word_index) + 1\n",
    "    # (le +1 est pour le token de padding 0, si Tokenizer ne le gère pas implicitement,\n",
    "    # ce qui est le cas pour char_level=True, 0 est réservé et non utilisé par Tokenizer par défaut)\n",
    "    # Ou plus précisément, on peut utiliser `max(word_index.values()) + 1` si on veut être sûr,\n",
    "    # ou s'en tenir à MAX_NUM_CHARS si on limite le vocabulaire.\n",
    "    # Pour char_level, c'est plus simple : la taille du vocabulaire est len(word_index) + 1\n",
    "    # car 0 est implicitement réservé au padding par pad_sequences.\n",
    "    vocab_size = len(word_index) + 1 # +1 pour le token de padding 0\n",
    "    print(f\"\\nTaille du vocabulaire à utiliser pour la couche Embedding : {vocab_size}\")\n",
    "\n",
    "\n",
    "else:\n",
    "    print(\"ERREUR : Les variables 'texts' et/ou 'labels' n'ont pas été créées. Vérifie la cellule précédente.\")"
   ]
  },
  {
   "cell_type": "code",
   "execution_count": 5,
   "id": "ee100bca",
   "metadata": {
    "execution": {
     "iopub.execute_input": "2025-05-07T15:35:52.725479Z",
     "iopub.status.busy": "2025-05-07T15:35:52.724705Z",
     "iopub.status.idle": "2025-05-07T15:35:52.741705Z",
     "shell.execute_reply": "2025-05-07T15:35:52.740557Z"
    },
    "papermill": {
     "duration": 0.0243,
     "end_time": "2025-05-07T15:35:52.743342",
     "exception": false,
     "start_time": "2025-05-07T15:35:52.719042",
     "status": "completed"
    },
    "tags": []
   },
   "outputs": [
    {
     "name": "stdout",
     "output_type": "stream",
     "text": [
      "\n",
      "--- Vérifications Post-Tokenisation et Padding ---\n",
      "Forme de data_padded (X) : (6728848, 60)\n",
      "Forme des labels (y) : (6728848,)\n",
      "\n",
      "Exemple 1:\n",
      "  URL Originale (traitée)    : 'irs-profilepaymentservice.com/home' (longueur: 34)\n",
      "  Séquence Paddée (premiers 30 tokens) : [ 7  8  9 24 15  8  3 21  7 13  2 15  5 23 11  2 12 10  9  2  8 26  7  6\n",
      "  2  4  6  3 11 17]...\n",
      "  URL Reconstruite (sans padding): 'irs-profilepaymentservice.com/home'\n",
      "\n",
      "Exemple 2:\n",
      "  URL Originale (traitée)    : 'cpuggsukabumi.id' (longueur: 16)\n",
      "  Séquence Paddée (premiers 30 tokens) : [ 6 15 16 19 19  9 16 22  5 20 16 11  7  4  7 14  0  0  0  0  0  0  0  0\n",
      "  0  0  0  0  0  0]...\n",
      "  URL Reconstruite (sans padding): 'cpuggsukabumi.id'\n",
      "\n",
      "Exemple 3:\n",
      "  URL Originale (traitée)    : 'members.tripod.com/~don_rc/ring.htm' (longueur: 35)\n",
      "  Séquence Paddée (premiers 30 tokens) : [11  2 11 20  2  8  9  4 10  8  7 15  3 14  4  6  3 11 17 46 14  3 12 42\n",
      "  8  6 17  8  7 12]...\n",
      "  URL Reconstruite (sans padding): 'members.tripod.com/~don_rc/ring.htm'\n",
      "\n",
      "Exemple d'URL courte (index 1) : 'cpuggsukabumi.id'\n",
      "  Sa séquence paddée : [ 6 15 16 19 19  9 16 22  5 20 16 11  7  4  7 14  0  0  0  0  0  0  0  0\n",
      "  0  0  0  0  0  0  0  0  0  0  0  0  0  0  0  0  0  0  0  0  0  0  0  0\n",
      "  0  0  0  0  0  0  0  0  0  0  0  0]\n",
      "  Nombre de zéros (padding) dans cette séquence : 44\n",
      "\n",
      "L'indice du token <UNK> est : 1\n"
     ]
    }
   ],
   "source": [
    "if 'data_padded' in locals() and 'texts' in locals() and 'tokenizer' in locals():\n",
    "    print(\"\\n--- Vérifications Post-Tokenisation et Padding ---\")\n",
    "\n",
    "    # 1. Vérifier la forme des données\n",
    "    print(f\"Forme de data_padded (X) : {data_padded.shape}\") # Doit être (nb_urls, MAX_SEQUENCE_LENGTH)\n",
    "    print(f\"Forme des labels (y) : {labels.shape}\")      # Doit être (nb_urls,)\n",
    "\n",
    "    # 2. Vérifier quelques exemples de reconversion (dé-tokenisation)\n",
    "    # Cela aide à s'assurer que le mapping est correct et que le padding/troncature est logique\n",
    "    num_examples_to_check = 3\n",
    "    for i in range(num_examples_to_check):\n",
    "        original_url = texts[i]\n",
    "        tokenized_sequence = data_padded[i]\n",
    "\n",
    "        # Reconstruire l'URL à partir de la séquence d'entiers\n",
    "        # On a besoin de l'index inversé (entier -> caractère)\n",
    "        #tokenizer.index_word contient les indices à partir de 1.\n",
    "        # 0 est réservé au padding. '<UNK>' a son propre indice.\n",
    "        reverse_word_index = {value: key for key, value in tokenizer.word_index.items()}\n",
    "\n",
    "        # Filtrer les tokens de padding (0) avant de reconstruire\n",
    "        decoded_chars = [reverse_word_index.get(token_id, '') for token_id in tokenized_sequence if token_id != 0]\n",
    "        reconstructed_url_no_padding = \"\".join(decoded_chars)\n",
    "\n",
    "        print(f\"\\nExemple {i+1}:\")\n",
    "        print(f\"  URL Originale (traitée)    : '{original_url}' (longueur: {len(original_url)})\")\n",
    "        print(f\"  Séquence Paddée (premiers 30 tokens) : {tokenized_sequence[:30]}...\")\n",
    "        print(f\"  URL Reconstruite (sans padding): '{reconstructed_url_no_padding}'\")\n",
    "\n",
    "        # Vérifier la longueur par rapport à MAX_SEQUENCE_LENGTH\n",
    "        if len(original_url) > MAX_SEQUENCE_LENGTH:\n",
    "            print(f\"  NOTE: L'URL originale était plus longue que MAX_SEQUENCE_LENGTH ({MAX_SEQUENCE_LENGTH}) et a été tronquée.\")\n",
    "        elif len(reconstructed_url_no_padding) < len(original_url) and len(original_url) <= MAX_SEQUENCE_LENGTH :\n",
    "             print(f\"  NOTE: L'URL reconstruite est plus courte que l'originale avant padding. Cela peut arriver si des caractères OOV ont été mappés à '' (si on n'utilise pas de token <UNK> explicite dans la reconstruction).\")\n",
    "\n",
    "\n",
    "    # 3. Vérifier la présence de tokens de padding (0)\n",
    "    # Compter le nombre de zéros dans une séquence paddée d'une URL qui était initialement courte\n",
    "    short_url_index = -1\n",
    "    for idx, url_text in enumerate(texts):\n",
    "        if len(url_text) < MAX_SEQUENCE_LENGTH // 2 and len(url_text) > 0: # Cherche une URL relativement courte\n",
    "            short_url_index = idx\n",
    "            break\n",
    "    \n",
    "    if short_url_index != -1:\n",
    "        print(f\"\\nExemple d'URL courte (index {short_url_index}) : '{texts[short_url_index]}'\")\n",
    "        print(f\"  Sa séquence paddée : {data_padded[short_url_index]}\")\n",
    "        print(f\"  Nombre de zéros (padding) dans cette séquence : {np.sum(data_padded[short_url_index] == 0)}\")\n",
    "    else:\n",
    "        print(\"\\nPas trouvé d'URL suffisamment courte pour un test de padding clair.\")\n",
    "\n",
    "    # 4. Vérifier l'utilisation du token OOV (<UNK>) si des URLs contiennent des caractères non appris\n",
    "    # C'est moins probable avec char_level=True si fit_on_texts est fait sur tout le dataset de caractères,\n",
    "    # mais si tu avais limité MAX_NUM_CHARS ou si tu avais un set de test avec des caractères vraiment nouveaux.\n",
    "    if \"<UNK>\" in tokenizer.word_index:\n",
    "        unk_token_id = tokenizer.word_index[\"<UNK>\"]\n",
    "        print(f\"\\nL'indice du token <UNK> est : {unk_token_id}\")\n",
    "        # Tu pourrais chercher des séquences contenant ce token_id si tu t'y attends.\n",
    "    else:\n",
    "        print(\"\\nLe token <UNK> n'est pas dans le vocabulaire (ce qui est normal si tous les caractères ont été appris).\")\n",
    "\n",
    "else:\n",
    "    print(\"ERREUR : Les variables nécessaires pour la vérification n'existent pas.\")"
   ]
  },
  {
   "cell_type": "code",
   "execution_count": 6,
   "id": "41d768bd",
   "metadata": {
    "execution": {
     "iopub.execute_input": "2025-05-07T15:35:52.753396Z",
     "iopub.status.busy": "2025-05-07T15:35:52.752982Z",
     "iopub.status.idle": "2025-05-07T15:36:01.768056Z",
     "shell.execute_reply": "2025-05-07T15:36:01.766598Z"
    },
    "papermill": {
     "duration": 9.027511,
     "end_time": "2025-05-07T15:36:01.775007",
     "exception": false,
     "start_time": "2025-05-07T15:35:52.747496",
     "status": "completed"
    },
    "tags": []
   },
   "outputs": [
    {
     "name": "stdout",
     "output_type": "stream",
     "text": [
      "\n",
      "--- Division des Données en Ensembles d'Entraînement et de Test ---\n",
      "Forme de X_train : (5383078, 60)\n",
      "Forme de y_train : (5383078,)\n",
      "Forme de X_test  : (1345770, 60)\n",
      "Forme de y_test  : (1345770,)\n",
      "\n",
      "Distribution des labels dans l'ensemble d'entraînement :\n",
      "{0: 4226540, 1: 1156538}\n",
      "\n",
      "Distribution des labels dans l'ensemble de test :\n",
      "{0: 1056635, 1: 289135}\n"
     ]
    }
   ],
   "source": [
    "from sklearn.model_selection import train_test_split\n",
    "\n",
    "if 'data_padded' in locals() and 'labels' in locals():\n",
    "    print(\"\\n--- Division des Données en Ensembles d'Entraînement et de Test ---\")\n",
    "\n",
    "    # X sont tes séquences paddées, y sont tes labels\n",
    "    X = data_padded\n",
    "    y = labels\n",
    "\n",
    "    # Diviser en entraînement (ex: 80%) et test (ex: 20%)\n",
    "    # random_state assure la reproductibilité\n",
    "    # stratify=y est une bonne pratique pour les problèmes de classification,\n",
    "    # surtout si les classes sont déséquilibrées, pour s'assurer que\n",
    "    # la proportion des classes est similaire dans les ensembles train et test.\n",
    "    X_train, X_test, y_train, y_test = train_test_split(\n",
    "        X, y,\n",
    "        test_size=0.2,       # 20% pour le test\n",
    "        random_state=42,     # Pour la reproductibilité\n",
    "        stratify=y           # Recommandé pour la classification\n",
    "    )\n",
    "\n",
    "    print(f\"Forme de X_train : {X_train.shape}\")\n",
    "    print(f\"Forme de y_train : {y_train.shape}\")\n",
    "    print(f\"Forme de X_test  : {X_test.shape}\")\n",
    "    print(f\"Forme de y_test  : {y_test.shape}\")\n",
    "\n",
    "    print(\"\\nDistribution des labels dans l'ensemble d'entraînement :\")\n",
    "    unique_train, counts_train = np.unique(y_train, return_counts=True)\n",
    "    print(dict(zip(unique_train, counts_train)))\n",
    "\n",
    "    print(\"\\nDistribution des labels dans l'ensemble de test :\")\n",
    "    unique_test, counts_test = np.unique(y_test, return_counts=True)\n",
    "    print(dict(zip(unique_test, counts_test)))\n",
    "\n",
    "    # Optionnel : Si tu veux aussi un ensemble de validation distinct (ex: à partir de l'ensemble d'entraînement)\n",
    "    # X_train_final, X_val, y_train_final, y_val = train_test_split(\n",
    "    #     X_train, y_train,\n",
    "    #     test_size=0.1, # Par exemple 10% de l'ensemble d'entraînement initial pour la validation\n",
    "    #     random_state=42,\n",
    "    #     stratify=y_train\n",
    "    # )\n",
    "    # print(f\"\\nForme de X_train_final : {X_train_final.shape}\")\n",
    "    # print(f\"Forme de X_val       : {X_val.shape}\")\n",
    "\n",
    "else:\n",
    "    print(\"ERREUR : Les variables 'data_padded' et/ou 'labels' n'ont pas été créées.\")"
   ]
  },
  {
   "cell_type": "code",
   "execution_count": 7,
   "id": "4ea73acf",
   "metadata": {
    "execution": {
     "iopub.execute_input": "2025-05-07T15:36:01.795679Z",
     "iopub.status.busy": "2025-05-07T15:36:01.794379Z",
     "iopub.status.idle": "2025-05-07T19:11:36.010855Z",
     "shell.execute_reply": "2025-05-07T19:11:36.008111Z"
    },
    "papermill": {
     "duration": 12945.000269,
     "end_time": "2025-05-07T19:11:46.785272",
     "exception": false,
     "start_time": "2025-05-07T15:36:01.785003",
     "status": "completed"
    },
    "tags": []
   },
   "outputs": [
    {
     "name": "stdout",
     "output_type": "stream",
     "text": [
      "\n",
      "--- Construction et Entraînement du Modèle CNN 1D ---\n",
      "Utilisation de vocab_size: 157\n",
      "Utilisation de MAX_SEQUENCE_LENGTH: 60\n",
      "Utilisation de EMBEDDING_DIM: 100\n"
     ]
    },
    {
     "name": "stderr",
     "output_type": "stream",
     "text": [
      "/usr/local/lib/python3.11/dist-packages/keras/src/layers/core/embedding.py:90: UserWarning: Argument `input_length` is deprecated. Just remove it.\n",
      "  warnings.warn(\n",
      "2025-05-07 15:36:01.827955: E external/local_xla/xla/stream_executor/cuda/cuda_driver.cc:152] failed call to cuInit: INTERNAL: CUDA error: Failed call to cuInit: UNKNOWN ERROR (303)\n"
     ]
    },
    {
     "data": {
      "text/html": [
       "<pre style=\"white-space:pre;overflow-x:auto;line-height:normal;font-family:Menlo,'DejaVu Sans Mono',consolas,'Courier New',monospace\"><span style=\"font-weight: bold\">Model: \"sequential\"</span>\n",
       "</pre>\n"
      ],
      "text/plain": [
       "\u001b[1mModel: \"sequential\"\u001b[0m\n"
      ]
     },
     "metadata": {},
     "output_type": "display_data"
    },
    {
     "data": {
      "text/html": [
       "<pre style=\"white-space:pre;overflow-x:auto;line-height:normal;font-family:Menlo,'DejaVu Sans Mono',consolas,'Courier New',monospace\">┏━━━━━━━━━━━━━━━━━━━━━━━━━━━━━━━━━━━━━━┳━━━━━━━━━━━━━━━━━━━━━━━━━━━━━┳━━━━━━━━━━━━━━━━━┓\n",
       "┃<span style=\"font-weight: bold\"> Layer (type)                         </span>┃<span style=\"font-weight: bold\"> Output Shape                </span>┃<span style=\"font-weight: bold\">         Param # </span>┃\n",
       "┡━━━━━━━━━━━━━━━━━━━━━━━━━━━━━━━━━━━━━━╇━━━━━━━━━━━━━━━━━━━━━━━━━━━━━╇━━━━━━━━━━━━━━━━━┩\n",
       "│ embedding (<span style=\"color: #0087ff; text-decoration-color: #0087ff\">Embedding</span>)                │ ?                           │     <span style=\"color: #00af00; text-decoration-color: #00af00\">0</span> (unbuilt) │\n",
       "├──────────────────────────────────────┼─────────────────────────────┼─────────────────┤\n",
       "│ conv1d (<span style=\"color: #0087ff; text-decoration-color: #0087ff\">Conv1D</span>)                      │ ?                           │     <span style=\"color: #00af00; text-decoration-color: #00af00\">0</span> (unbuilt) │\n",
       "├──────────────────────────────────────┼─────────────────────────────┼─────────────────┤\n",
       "│ global_max_pooling1d                 │ ?                           │     <span style=\"color: #00af00; text-decoration-color: #00af00\">0</span> (unbuilt) │\n",
       "│ (<span style=\"color: #0087ff; text-decoration-color: #0087ff\">GlobalMaxPooling1D</span>)                 │                             │                 │\n",
       "├──────────────────────────────────────┼─────────────────────────────┼─────────────────┤\n",
       "│ dense (<span style=\"color: #0087ff; text-decoration-color: #0087ff\">Dense</span>)                        │ ?                           │     <span style=\"color: #00af00; text-decoration-color: #00af00\">0</span> (unbuilt) │\n",
       "├──────────────────────────────────────┼─────────────────────────────┼─────────────────┤\n",
       "│ dropout (<span style=\"color: #0087ff; text-decoration-color: #0087ff\">Dropout</span>)                    │ ?                           │     <span style=\"color: #00af00; text-decoration-color: #00af00\">0</span> (unbuilt) │\n",
       "├──────────────────────────────────────┼─────────────────────────────┼─────────────────┤\n",
       "│ dense_1 (<span style=\"color: #0087ff; text-decoration-color: #0087ff\">Dense</span>)                      │ ?                           │     <span style=\"color: #00af00; text-decoration-color: #00af00\">0</span> (unbuilt) │\n",
       "└──────────────────────────────────────┴─────────────────────────────┴─────────────────┘\n",
       "</pre>\n"
      ],
      "text/plain": [
       "┏━━━━━━━━━━━━━━━━━━━━━━━━━━━━━━━━━━━━━━┳━━━━━━━━━━━━━━━━━━━━━━━━━━━━━┳━━━━━━━━━━━━━━━━━┓\n",
       "┃\u001b[1m \u001b[0m\u001b[1mLayer (type)                        \u001b[0m\u001b[1m \u001b[0m┃\u001b[1m \u001b[0m\u001b[1mOutput Shape               \u001b[0m\u001b[1m \u001b[0m┃\u001b[1m \u001b[0m\u001b[1m        Param #\u001b[0m\u001b[1m \u001b[0m┃\n",
       "┡━━━━━━━━━━━━━━━━━━━━━━━━━━━━━━━━━━━━━━╇━━━━━━━━━━━━━━━━━━━━━━━━━━━━━╇━━━━━━━━━━━━━━━━━┩\n",
       "│ embedding (\u001b[38;5;33mEmbedding\u001b[0m)                │ ?                           │     \u001b[38;5;34m0\u001b[0m (unbuilt) │\n",
       "├──────────────────────────────────────┼─────────────────────────────┼─────────────────┤\n",
       "│ conv1d (\u001b[38;5;33mConv1D\u001b[0m)                      │ ?                           │     \u001b[38;5;34m0\u001b[0m (unbuilt) │\n",
       "├──────────────────────────────────────┼─────────────────────────────┼─────────────────┤\n",
       "│ global_max_pooling1d                 │ ?                           │     \u001b[38;5;34m0\u001b[0m (unbuilt) │\n",
       "│ (\u001b[38;5;33mGlobalMaxPooling1D\u001b[0m)                 │                             │                 │\n",
       "├──────────────────────────────────────┼─────────────────────────────┼─────────────────┤\n",
       "│ dense (\u001b[38;5;33mDense\u001b[0m)                        │ ?                           │     \u001b[38;5;34m0\u001b[0m (unbuilt) │\n",
       "├──────────────────────────────────────┼─────────────────────────────┼─────────────────┤\n",
       "│ dropout (\u001b[38;5;33mDropout\u001b[0m)                    │ ?                           │     \u001b[38;5;34m0\u001b[0m (unbuilt) │\n",
       "├──────────────────────────────────────┼─────────────────────────────┼─────────────────┤\n",
       "│ dense_1 (\u001b[38;5;33mDense\u001b[0m)                      │ ?                           │     \u001b[38;5;34m0\u001b[0m (unbuilt) │\n",
       "└──────────────────────────────────────┴─────────────────────────────┴─────────────────┘\n"
      ]
     },
     "metadata": {},
     "output_type": "display_data"
    },
    {
     "data": {
      "text/html": [
       "<pre style=\"white-space:pre;overflow-x:auto;line-height:normal;font-family:Menlo,'DejaVu Sans Mono',consolas,'Courier New',monospace\"><span style=\"font-weight: bold\"> Total params: </span><span style=\"color: #00af00; text-decoration-color: #00af00\">0</span> (0.00 B)\n",
       "</pre>\n"
      ],
      "text/plain": [
       "\u001b[1m Total params: \u001b[0m\u001b[38;5;34m0\u001b[0m (0.00 B)\n"
      ]
     },
     "metadata": {},
     "output_type": "display_data"
    },
    {
     "data": {
      "text/html": [
       "<pre style=\"white-space:pre;overflow-x:auto;line-height:normal;font-family:Menlo,'DejaVu Sans Mono',consolas,'Courier New',monospace\"><span style=\"font-weight: bold\"> Trainable params: </span><span style=\"color: #00af00; text-decoration-color: #00af00\">0</span> (0.00 B)\n",
       "</pre>\n"
      ],
      "text/plain": [
       "\u001b[1m Trainable params: \u001b[0m\u001b[38;5;34m0\u001b[0m (0.00 B)\n"
      ]
     },
     "metadata": {},
     "output_type": "display_data"
    },
    {
     "data": {
      "text/html": [
       "<pre style=\"white-space:pre;overflow-x:auto;line-height:normal;font-family:Menlo,'DejaVu Sans Mono',consolas,'Courier New',monospace\"><span style=\"font-weight: bold\"> Non-trainable params: </span><span style=\"color: #00af00; text-decoration-color: #00af00\">0</span> (0.00 B)\n",
       "</pre>\n"
      ],
      "text/plain": [
       "\u001b[1m Non-trainable params: \u001b[0m\u001b[38;5;34m0\u001b[0m (0.00 B)\n"
      ]
     },
     "metadata": {},
     "output_type": "display_data"
    },
    {
     "name": "stdout",
     "output_type": "stream",
     "text": [
      "\n",
      "Début de l'entraînement du modèle CNN...\n",
      "Epoch 1/10\n",
      "\u001b[1m37850/37850\u001b[0m \u001b[32m━━━━━━━━━━━━━━━━━━━━\u001b[0m\u001b[37m\u001b[0m \u001b[1m1246s\u001b[0m 33ms/step - accuracy: 0.9405 - loss: 0.1822 - val_accuracy: 0.9575 - val_loss: 0.1375\n",
      "Epoch 2/10\n",
      "\u001b[1m37850/37850\u001b[0m \u001b[32m━━━━━━━━━━━━━━━━━━━━\u001b[0m\u001b[37m\u001b[0m \u001b[1m1261s\u001b[0m 33ms/step - accuracy: 0.9559 - loss: 0.1433 - val_accuracy: 0.9597 - val_loss: 0.1316\n",
      "Epoch 3/10\n",
      "\u001b[1m37850/37850\u001b[0m \u001b[32m━━━━━━━━━━━━━━━━━━━━\u001b[0m\u001b[37m\u001b[0m \u001b[1m1267s\u001b[0m 33ms/step - accuracy: 0.9582 - loss: 0.1372 - val_accuracy: 0.9599 - val_loss: 0.1306\n",
      "Epoch 4/10\n",
      "\u001b[1m37850/37850\u001b[0m \u001b[32m━━━━━━━━━━━━━━━━━━━━\u001b[0m\u001b[37m\u001b[0m \u001b[1m1284s\u001b[0m 34ms/step - accuracy: 0.9593 - loss: 0.1343 - val_accuracy: 0.9611 - val_loss: 0.1281\n",
      "Epoch 5/10\n",
      "\u001b[1m37850/37850\u001b[0m \u001b[32m━━━━━━━━━━━━━━━━━━━━\u001b[0m\u001b[37m\u001b[0m \u001b[1m1269s\u001b[0m 34ms/step - accuracy: 0.9597 - loss: 0.1330 - val_accuracy: 0.9615 - val_loss: 0.1286\n",
      "Epoch 6/10\n",
      "\u001b[1m37850/37850\u001b[0m \u001b[32m━━━━━━━━━━━━━━━━━━━━\u001b[0m\u001b[37m\u001b[0m \u001b[1m1276s\u001b[0m 34ms/step - accuracy: 0.9602 - loss: 0.1316 - val_accuracy: 0.9619 - val_loss: 0.1261\n",
      "Epoch 7/10\n",
      "\u001b[1m37850/37850\u001b[0m \u001b[32m━━━━━━━━━━━━━━━━━━━━\u001b[0m\u001b[37m\u001b[0m \u001b[1m1325s\u001b[0m 35ms/step - accuracy: 0.9607 - loss: 0.1300 - val_accuracy: 0.9619 - val_loss: 0.1265\n",
      "Epoch 8/10\n",
      "\u001b[1m37850/37850\u001b[0m \u001b[32m━━━━━━━━━━━━━━━━━━━━\u001b[0m\u001b[37m\u001b[0m \u001b[1m1297s\u001b[0m 34ms/step - accuracy: 0.9611 - loss: 0.1296 - val_accuracy: 0.9620 - val_loss: 0.1256\n",
      "Epoch 9/10\n",
      "\u001b[1m37850/37850\u001b[0m \u001b[32m━━━━━━━━━━━━━━━━━━━━\u001b[0m\u001b[37m\u001b[0m \u001b[1m1255s\u001b[0m 33ms/step - accuracy: 0.9613 - loss: 0.1292 - val_accuracy: 0.9605 - val_loss: 0.1290\n",
      "Epoch 10/10\n",
      "\u001b[1m37850/37850\u001b[0m \u001b[32m━━━━━━━━━━━━━━━━━━━━\u001b[0m\u001b[37m\u001b[0m \u001b[1m1277s\u001b[0m 34ms/step - accuracy: 0.9612 - loss: 0.1287 - val_accuracy: 0.9620 - val_loss: 0.1253\n",
      "\n",
      "Entraînement du modèle CNN terminé.\n",
      "\n",
      "Évaluation préliminaire sur l'ensemble de test :\n",
      "Loss sur le test (CNN) : 0.1268\n",
      "Accuracy sur le test (CNN) : 0.9613\n"
     ]
    }
   ],
   "source": [
    "from tensorflow.keras.models import Sequential\n",
    "from tensorflow.keras.layers import Embedding, Conv1D, GlobalMaxPooling1D, Dense, Dropout\n",
    "from tensorflow.keras.callbacks import EarlyStopping\n",
    "\n",
    "if 'X_train' in locals(): # S'assurer que les données d'entraînement existent\n",
    "    print(\"\\n--- Construction et Entraînement du Modèle CNN 1D ---\")\n",
    "\n",
    "    # Paramètres du modèle (rappel ou à définir ici si non globales)\n",
    "    # vocab_size = 157 # D'après ta sortie précédente (len(word_index) + 1)\n",
    "    # MAX_SEQUENCE_LENGTH = 60 # D'après ta sortie précédente\n",
    "    EMBEDDING_DIM = 100 # Choisis une dimension, ex: 50, 100, ou 128\n",
    "\n",
    "    # S'assurer que vocab_size et MAX_SEQUENCE_LENGTH sont bien définies\n",
    "    # Si elles étaient dans une autre cellule et que tu as redémarré le kernel,\n",
    "    # tu devras peut-être les redéfinir ou récupérer leurs valeurs.\n",
    "    # Pour l'instant, on suppose qu'elles sont accessibles.\n",
    "    # Si ce n'est pas le cas, décommente et ajuste les lignes ci-dessus.\n",
    "\n",
    "    print(f\"Utilisation de vocab_size: {vocab_size}\")\n",
    "    print(f\"Utilisation de MAX_SEQUENCE_LENGTH: {MAX_SEQUENCE_LENGTH}\")\n",
    "    print(f\"Utilisation de EMBEDDING_DIM: {EMBEDDING_DIM}\")\n",
    "\n",
    "    # Construction du modèle CNN 1D\n",
    "    model_cnn = Sequential([\n",
    "        Embedding(input_dim=vocab_size, # Taille du vocabulaire\n",
    "                  output_dim=EMBEDDING_DIM, # Dimension de l'embedding\n",
    "                  input_length=MAX_SEQUENCE_LENGTH), # Longueur de la séquence d'entrée\n",
    "        Conv1D(filters=128, kernel_size=5, activation='relu'), # Couche de convolution\n",
    "        GlobalMaxPooling1D(), # Pooling pour réduire la dimensionnalité\n",
    "        Dense(64, activation='relu'), # Couche dense\n",
    "        Dropout(0.5), # Dropout pour la régularisation\n",
    "        Dense(1, activation='sigmoid') # Couche de sortie pour classification binaire\n",
    "    ])\n",
    "\n",
    "    # Compilation du modèle\n",
    "    model_cnn.compile(optimizer='adam',\n",
    "                      loss='binary_crossentropy', # Pour la classification binaire\n",
    "                      metrics=['accuracy']) # Suivre l'accuracy\n",
    "\n",
    "    # Afficher le résumé du modèle\n",
    "    model_cnn.summary()\n",
    "\n",
    "    # Entraînement du modèle\n",
    "    print(\"\\nDébut de l'entraînement du modèle CNN...\")\n",
    "    # EarlyStopping pour arrêter l'entraînement si la performance sur la validation ne s'améliore plus\n",
    "    # (Utile si tu as un ensemble de validation, sinon on peut s'en passer pour un premier test)\n",
    "    # early_stopping = EarlyStopping(monitor='val_loss', patience=3, restore_best_weights=True)\n",
    "\n",
    "    # Pour un premier test, entraînons sans ensemble de validation dédié ici,\n",
    "    # on utilisera X_test pour l'évaluation finale.\n",
    "    # Si tu as créé X_val, y_val, utilise validation_data=(X_val, y_val)\n",
    "    history_cnn = model_cnn.fit(\n",
    "        X_train, y_train,\n",
    "        epochs=10,           # Nombre d'époques (à ajuster)\n",
    "        batch_size=128,      # Taille du batch (à ajuster)\n",
    "        validation_split=0.1, # Utilise 10% des données d'entraînement pour la validation pendant l'entraînement\n",
    "        # callbacks=[early_stopping] # Décommente si tu utilises EarlyStopping et un val_set\n",
    "    )\n",
    "\n",
    "    print(\"\\nEntraînement du modèle CNN terminé.\")\n",
    "\n",
    "    # Évaluation du modèle sur l'ensemble de test (sera fait plus en détail après)\n",
    "    print(\"\\nÉvaluation préliminaire sur l'ensemble de test :\")\n",
    "    loss_cnn, accuracy_cnn = model_cnn.evaluate(X_test, y_test, verbose=0)\n",
    "    print(f\"Loss sur le test (CNN) : {loss_cnn:.4f}\")\n",
    "    print(f\"Accuracy sur le test (CNN) : {accuracy_cnn:.4f}\")\n",
    "\n",
    "else:\n",
    "    print(\"ERREUR : Les données d'entraînement (X_train, etc.) n'ont pas été créées.\")"
   ]
  },
  {
   "cell_type": "code",
   "execution_count": null,
   "id": "53b01898",
   "metadata": {
    "papermill": {
     "duration": 10.812048,
     "end_time": "2025-05-07T19:12:08.473487",
     "exception": false,
     "start_time": "2025-05-07T19:11:57.661439",
     "status": "completed"
    },
    "tags": []
   },
   "outputs": [],
   "source": []
  },
  {
   "cell_type": "code",
   "execution_count": 8,
   "id": "439f9ef9",
   "metadata": {
    "execution": {
     "iopub.execute_input": "2025-05-07T19:12:29.880142Z",
     "iopub.status.busy": "2025-05-07T19:12:29.879473Z",
     "iopub.status.idle": "2025-05-07T19:12:29.897649Z",
     "shell.execute_reply": "2025-05-07T19:12:29.896694Z"
    },
    "papermill": {
     "duration": 10.819635,
     "end_time": "2025-05-07T19:12:29.899132",
     "exception": false,
     "start_time": "2025-05-07T19:12:19.079497",
     "status": "completed"
    },
    "tags": []
   },
   "outputs": [
    {
     "name": "stdout",
     "output_type": "stream",
     "text": [
      "['data.csv']\n"
     ]
    }
   ],
   "source": [
    "import os\n",
    "print(os.listdir('/kaggle/input/urldata/'))"
   ]
  }
 ],
 "metadata": {
  "kaggle": {
   "accelerator": "none",
   "dataSources": [
    {
     "datasetId": 7356670,
     "sourceId": 11719239,
     "sourceType": "datasetVersion"
    }
   ],
   "dockerImageVersionId": 31012,
   "isGpuEnabled": false,
   "isInternetEnabled": false,
   "language": "python",
   "sourceType": "notebook"
  },
  "kernelspec": {
   "display_name": "Python 3",
   "language": "python",
   "name": "python3"
  },
  "language_info": {
   "codemirror_mode": {
    "name": "ipython",
    "version": 3
   },
   "file_extension": ".py",
   "mimetype": "text/x-python",
   "name": "python",
   "nbconvert_exporter": "python",
   "pygments_lexer": "ipython3",
   "version": "3.11.11"
  },
  "papermill": {
   "default_parameters": {},
   "duration": 13218.827565,
   "end_time": "2025-05-07T19:12:44.598303",
   "environment_variables": {},
   "exception": null,
   "input_path": "__notebook__.ipynb",
   "output_path": "__notebook__.ipynb",
   "parameters": {},
   "start_time": "2025-05-07T15:32:25.770738",
   "version": "2.6.0"
  }
 },
 "nbformat": 4,
 "nbformat_minor": 5
}
